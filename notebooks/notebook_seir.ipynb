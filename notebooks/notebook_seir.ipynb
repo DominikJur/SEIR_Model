{
 "cells": [
  {
   "cell_type": "code",
   "execution_count": 1,
   "metadata": {},
   "outputs": [],
   "source": [
    "import numpy as np\n",
    "from scipy.integrate import odeint\n",
    "import matplotlib.pyplot as plt\n",
    "from ipywidgets import interactive"
   ]
  },
  {
   "cell_type": "code",
   "execution_count": 2,
   "metadata": {},
   "outputs": [],
   "source": [
    "def SEIR(\n",
    "    y: tuple[int], t: int, n: int, beta: float, gamma: float, sigma: float\n",
    ") -> list[float]:\n",
    "    s, e, i, r = y\n",
    "    ds_dt = -beta * s * i / n\n",
    "    de_dt = beta * s * i / n - sigma * e\n",
    "    di_dt = sigma * e - gamma * i\n",
    "    dr_dt = gamma * i\n",
    "    return [ds_dt, de_dt, di_dt, dr_dt]"
   ]
  },
  {
   "cell_type": "code",
   "execution_count": 3,
   "metadata": {},
   "outputs": [
    {
     "data": {
      "application/vnd.jupyter.widget-view+json": {
       "model_id": "11a819ee01f947fb91656979a8c943f5",
       "version_major": 2,
       "version_minor": 0
      },
      "text/plain": [
       "interactive(children=(FloatSlider(value=0.3, description='beta', max=1.0, step=0.01), FloatSlider(value=0.2, d…"
      ]
     },
     "execution_count": 3,
     "metadata": {},
     "output_type": "execute_result"
    }
   ],
   "source": [
    "N = 1000\n",
    "S0 = 999\n",
    "E0 = 0\n",
    "I0 = 1\n",
    "R0 = 0\n",
    "\n",
    "y0 = S0, E0, I0, R0\n",
    "\n",
    "\n",
    "def interactive_seir(beta=0.3, gamma=0.2, sigma=0.1):\n",
    "    t = np.linspace(0, 365, 365)\n",
    "\n",
    "    ret = odeint(SEIR, y0, t, args=(N, beta, sigma, gamma))\n",
    "\n",
    "    s, e, i, r = ret.T\n",
    "    plt.plot(s, label=\"Susceptible\")\n",
    "    plt.plot(e, label=\"Exposed\")\n",
    "    plt.plot(i, label=\"Infectious\")\n",
    "    plt.plot(r, label=\"Removed\")\n",
    "    plt.xlabel(\"Days\")\n",
    "    plt.ylabel(\"Population\")\n",
    "    plt.title(\"SEIR Model\")\n",
    "    plt.legend()\n",
    "\n",
    "\n",
    "interactive_plot = interactive(\n",
    "    interactive_seir, beta=(0.0, 1, 0.01), sigma=(0.0, 1, 0.01), gamma=(0.0, 1, 0.01)\n",
    ")\n",
    "interactive_plot"
   ]
  },
  {
   "cell_type": "code",
   "execution_count": null,
   "metadata": {},
   "outputs": [],
   "source": []
  },
  {
   "cell_type": "code",
   "execution_count": null,
   "metadata": {},
   "outputs": [],
   "source": []
  }
 ],
 "metadata": {
  "kernelspec": {
   "display_name": "Python 3 (ipykernel)",
   "language": "python",
   "name": "python3"
  },
  "language_info": {
   "codemirror_mode": {
    "name": "ipython",
    "version": 3
   },
   "file_extension": ".py",
   "mimetype": "text/x-python",
   "name": "python",
   "nbconvert_exporter": "python",
   "pygments_lexer": "ipython3",
   "version": "3.12.0"
  }
 },
 "nbformat": 4,
 "nbformat_minor": 4
}
